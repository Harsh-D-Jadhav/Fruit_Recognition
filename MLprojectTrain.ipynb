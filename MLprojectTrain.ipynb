{
 "cells": [
  {
   "cell_type": "code",
   "execution_count": 4,
   "id": "216de15b",
   "metadata": {},
   "outputs": [],
   "source": [
    "import tensorflow as tf\n",
    "import matplotlib.pyplot as plt"
   ]
  },
  {
   "cell_type": "code",
   "execution_count": 5,
   "id": "d654d394",
   "metadata": {},
   "outputs": [
    {
     "name": "stdout",
     "output_type": "stream",
     "text": [
      "Found 3115 files belonging to 36 classes.\n"
     ]
    }
   ],
   "source": [
    "training_set = tf.keras.utils.image_dataset_from_directory(\n",
    "    'E:/FRUITDATASET/train',\n",
    "    labels=\"inferred\",\n",
    "    label_mode=\"categorical\",\n",
    "    class_names=None,\n",
    "    color_mode=\"rgb\",\n",
    "    batch_size=32,\n",
    "    image_size=(64, 64),\n",
    "    shuffle=True,\n",
    "    seed=None,\n",
    "    validation_split=None,\n",
    "    subset=None,\n",
    "    interpolation=\"bilinear\",\n",
    "    follow_links=False,\n",
    "    crop_to_aspect_ratio=False\n",
    ")"
   ]
  },
  {
   "cell_type": "code",
   "execution_count": 6,
   "id": "c6f4b1bf",
   "metadata": {},
   "outputs": [
    {
     "name": "stdout",
     "output_type": "stream",
     "text": [
      "Found 351 files belonging to 36 classes.\n"
     ]
    }
   ],
   "source": [
    "validation_set = tf.keras.utils.image_dataset_from_directory(\n",
    "    'E:/FRUITDATASET/validation',\n",
    "    labels=\"inferred\",\n",
    "    label_mode=\"categorical\",\n",
    "    class_names=None,\n",
    "    color_mode=\"rgb\",\n",
    "    batch_size=32,\n",
    "    image_size=(64, 64),\n",
    "    shuffle=True,\n",
    "    seed=None,\n",
    "    validation_split=None,\n",
    "    subset=None,\n",
    "    interpolation=\"bilinear\",\n",
    "    follow_links=False,\n",
    "    crop_to_aspect_ratio=False\n",
    ")"
   ]
  },
  {
   "cell_type": "code",
   "execution_count": 7,
   "id": "f0087fa6",
   "metadata": {},
   "outputs": [],
   "source": [
    "cnn = tf.keras.models.Sequential()"
   ]
  },
  {
   "cell_type": "code",
   "execution_count": 8,
   "id": "7cfc1bb3",
   "metadata": {},
   "outputs": [],
   "source": [
    "cnn.add(tf.keras.layers.Conv2D(filters=32,kernel_size=3,padding='same',activation='relu',input_shape=[64,64,3]))\n",
    "cnn.add(tf.keras.layers.Conv2D(filters=32,kernel_size=3,activation='relu'))\n",
    "cnn.add(tf.keras.layers.MaxPool2D(pool_size=2,strides=2))"
   ]
  },
  {
   "cell_type": "code",
   "execution_count": 9,
   "id": "f125419e",
   "metadata": {},
   "outputs": [],
   "source": [
    "cnn.add(tf.keras.layers.Dropout(0.25))"
   ]
  },
  {
   "cell_type": "code",
   "execution_count": 10,
   "id": "3e62b640",
   "metadata": {},
   "outputs": [],
   "source": [
    "cnn.add(tf.keras.layers.Conv2D(filters=64,kernel_size=3,padding='same',activation='relu'))\n",
    "cnn.add(tf.keras.layers.Conv2D(filters=64,kernel_size=3,activation='relu'))\n",
    "cnn.add(tf.keras.layers.MaxPool2D(pool_size=2,strides=2))"
   ]
  },
  {
   "cell_type": "code",
   "execution_count": 11,
   "id": "0976f1af",
   "metadata": {},
   "outputs": [],
   "source": [
    "cnn.add(tf.keras.layers.Dropout(0.25))"
   ]
  },
  {
   "cell_type": "code",
   "execution_count": 12,
   "id": "83d49eb4",
   "metadata": {},
   "outputs": [],
   "source": [
    "cnn.add(tf.keras.layers.Flatten())"
   ]
  },
  {
   "cell_type": "code",
   "execution_count": 13,
   "id": "5b79776f",
   "metadata": {},
   "outputs": [],
   "source": [
    "cnn.add(tf.keras.layers.Dense(units=512,activation='relu'))"
   ]
  },
  {
   "cell_type": "code",
   "execution_count": 14,
   "id": "d70ac2ed",
   "metadata": {},
   "outputs": [],
   "source": [
    "cnn.add(tf.keras.layers.Dense(units=256,activation='relu'))"
   ]
  },
  {
   "cell_type": "code",
   "execution_count": 15,
   "id": "8988a261",
   "metadata": {},
   "outputs": [],
   "source": [
    "cnn.add(tf.keras.layers.Dropout(0.5)) #To avoid overfitting"
   ]
  },
  {
   "cell_type": "code",
   "execution_count": 16,
   "id": "6e923dca",
   "metadata": {},
   "outputs": [],
   "source": [
    "#Output Layer\n",
    "cnn.add(tf.keras.layers.Dense(units=36,activation='softmax'))"
   ]
  },
  {
   "cell_type": "code",
   "execution_count": 17,
   "id": "c198f18a",
   "metadata": {},
   "outputs": [],
   "source": [
    "cnn.compile(optimizer='adam',loss='categorical_crossentropy',metrics=['accuracy'])"
   ]
  },
  {
   "cell_type": "code",
   "execution_count": 18,
   "id": "20b7b48e",
   "metadata": {},
   "outputs": [
    {
     "name": "stdout",
     "output_type": "stream",
     "text": [
      "Epoch 1/32\n",
      "98/98 [==============================] - 69s 674ms/step - loss: 5.8926 - accuracy: 0.0260 - val_loss: 3.5771 - val_accuracy: 0.0541\n",
      "Epoch 2/32\n",
      "98/98 [==============================] - 61s 609ms/step - loss: 3.5802 - accuracy: 0.0340 - val_loss: 3.5804 - val_accuracy: 0.0370\n",
      "Epoch 3/32\n",
      "98/98 [==============================] - 61s 603ms/step - loss: 3.5679 - accuracy: 0.0398 - val_loss: 3.4981 - val_accuracy: 0.0655\n",
      "Epoch 4/32\n",
      "98/98 [==============================] - 58s 579ms/step - loss: 3.4379 - accuracy: 0.0671 - val_loss: 3.2428 - val_accuracy: 0.1225\n",
      "Epoch 5/32\n",
      "98/98 [==============================] - 59s 580ms/step - loss: 3.2760 - accuracy: 0.0876 - val_loss: 3.0245 - val_accuracy: 0.1396\n",
      "Epoch 6/32\n",
      "98/98 [==============================] - 59s 581ms/step - loss: 3.1500 - accuracy: 0.1152 - val_loss: 2.9281 - val_accuracy: 0.2564\n",
      "Epoch 7/32\n",
      "98/98 [==============================] - 59s 580ms/step - loss: 3.0363 - accuracy: 0.1470 - val_loss: 2.8153 - val_accuracy: 0.2621\n",
      "Epoch 8/32\n",
      "98/98 [==============================] - 59s 581ms/step - loss: 2.9087 - accuracy: 0.1759 - val_loss: 2.3096 - val_accuracy: 0.4046\n",
      "Epoch 9/32\n",
      "98/98 [==============================] - 59s 579ms/step - loss: 2.7370 - accuracy: 0.2295 - val_loss: 2.2483 - val_accuracy: 0.4131\n",
      "Epoch 10/32\n",
      "98/98 [==============================] - 59s 580ms/step - loss: 2.5886 - accuracy: 0.2687 - val_loss: 2.0271 - val_accuracy: 0.4444\n",
      "Epoch 11/32\n",
      "98/98 [==============================] - 58s 576ms/step - loss: 2.4582 - accuracy: 0.3098 - val_loss: 1.8115 - val_accuracy: 0.5442\n",
      "Epoch 12/32\n",
      "98/98 [==============================] - 59s 581ms/step - loss: 2.3317 - accuracy: 0.3467 - val_loss: 1.8250 - val_accuracy: 0.5442\n",
      "Epoch 13/32\n",
      "98/98 [==============================] - 59s 584ms/step - loss: 2.1651 - accuracy: 0.3939 - val_loss: 1.6634 - val_accuracy: 0.5812\n",
      "Epoch 14/32\n",
      "98/98 [==============================] - 58s 578ms/step - loss: 2.0625 - accuracy: 0.4183 - val_loss: 1.6245 - val_accuracy: 0.5869\n",
      "Epoch 15/32\n",
      "98/98 [==============================] - 59s 581ms/step - loss: 1.9776 - accuracy: 0.4385 - val_loss: 1.6045 - val_accuracy: 0.5897\n",
      "Epoch 16/32\n",
      "98/98 [==============================] - 59s 581ms/step - loss: 1.8398 - accuracy: 0.4706 - val_loss: 1.4893 - val_accuracy: 0.6011\n",
      "Epoch 17/32\n",
      "98/98 [==============================] - 59s 580ms/step - loss: 1.8340 - accuracy: 0.4870 - val_loss: 1.4015 - val_accuracy: 0.6325\n",
      "Epoch 18/32\n",
      "98/98 [==============================] - 59s 586ms/step - loss: 1.7274 - accuracy: 0.5111 - val_loss: 1.3262 - val_accuracy: 0.6809\n",
      "Epoch 19/32\n",
      "98/98 [==============================] - 60s 592ms/step - loss: 1.6803 - accuracy: 0.5303 - val_loss: 1.1805 - val_accuracy: 0.7123\n",
      "Epoch 20/32\n",
      "98/98 [==============================] - 59s 585ms/step - loss: 1.5596 - accuracy: 0.5576 - val_loss: 1.3659 - val_accuracy: 0.6781\n",
      "Epoch 21/32\n",
      "98/98 [==============================] - 59s 583ms/step - loss: 1.4598 - accuracy: 0.5862 - val_loss: 1.3103 - val_accuracy: 0.6667\n",
      "Epoch 22/32\n",
      "98/98 [==============================] - 59s 586ms/step - loss: 1.4342 - accuracy: 0.5917 - val_loss: 0.9371 - val_accuracy: 0.7664\n",
      "Epoch 23/32\n",
      "98/98 [==============================] - 59s 584ms/step - loss: 1.3751 - accuracy: 0.6055 - val_loss: 0.8992 - val_accuracy: 0.7920\n",
      "Epoch 24/32\n",
      "98/98 [==============================] - 59s 579ms/step - loss: 1.2991 - accuracy: 0.6321 - val_loss: 0.8783 - val_accuracy: 0.7863\n",
      "Epoch 25/32\n",
      "98/98 [==============================] - 59s 586ms/step - loss: 1.2476 - accuracy: 0.6437 - val_loss: 0.9590 - val_accuracy: 0.7835\n",
      "Epoch 26/32\n",
      "98/98 [==============================] - 59s 582ms/step - loss: 1.1886 - accuracy: 0.6642 - val_loss: 0.8762 - val_accuracy: 0.7835\n",
      "Epoch 27/32\n",
      "98/98 [==============================] - 60s 590ms/step - loss: 1.1140 - accuracy: 0.6681 - val_loss: 0.7131 - val_accuracy: 0.8034\n",
      "Epoch 28/32\n",
      "98/98 [==============================] - 59s 587ms/step - loss: 1.0531 - accuracy: 0.6963 - val_loss: 0.6648 - val_accuracy: 0.8205\n",
      "Epoch 29/32\n",
      "98/98 [==============================] - 59s 587ms/step - loss: 1.0063 - accuracy: 0.7050 - val_loss: 0.6919 - val_accuracy: 0.8205\n",
      "Epoch 30/32\n",
      "98/98 [==============================] - 59s 580ms/step - loss: 0.9668 - accuracy: 0.7239 - val_loss: 0.5817 - val_accuracy: 0.8462\n",
      "Epoch 31/32\n",
      "98/98 [==============================] - 60s 599ms/step - loss: 0.9991 - accuracy: 0.7165 - val_loss: 0.8510 - val_accuracy: 0.7977\n",
      "Epoch 32/32\n",
      "98/98 [==============================] - 61s 607ms/step - loss: 1.0242 - accuracy: 0.7085 - val_loss: 0.6587 - val_accuracy: 0.8319\n"
     ]
    }
   ],
   "source": [
    "training_history = cnn.fit(x=training_set,validation_data=validation_set,epochs=32)"
   ]
  },
  {
   "cell_type": "code",
   "execution_count": 20,
   "id": "c656293c",
   "metadata": {},
   "outputs": [],
   "source": [
    "cnn.save('E:/trained_model.keras')"
   ]
  },
  {
   "cell_type": "code",
   "execution_count": 21,
   "id": "026c163f",
   "metadata": {},
   "outputs": [
    {
     "name": "stdout",
     "output_type": "stream",
     "text": [
      "dict_keys(['loss', 'accuracy', 'val_loss', 'val_accuracy'])\n"
     ]
    }
   ],
   "source": [
    "print(training_history.history.keys())"
   ]
  },
  {
   "cell_type": "code",
   "execution_count": 22,
   "id": "036ca189",
   "metadata": {},
   "outputs": [
    {
     "name": "stdout",
     "output_type": "stream",
     "text": [
      "Validation set Accuracy: 83.19088220596313 %\n"
     ]
    }
   ],
   "source": [
    "print(\"Validation set Accuracy: {} %\".format(training_history.history['val_accuracy'][-1]*100))"
   ]
  },
  {
   "cell_type": "code",
   "execution_count": null,
   "id": "1f2c8e4e",
   "metadata": {},
   "outputs": [],
   "source": []
  }
 ],
 "metadata": {
  "kernelspec": {
   "display_name": "Python 3 (ipykernel)",
   "language": "python",
   "name": "python3"
  },
  "language_info": {
   "codemirror_mode": {
    "name": "ipython",
    "version": 3
   },
   "file_extension": ".py",
   "mimetype": "text/x-python",
   "name": "python",
   "nbconvert_exporter": "python",
   "pygments_lexer": "ipython3",
   "version": "3.11.5"
  }
 },
 "nbformat": 4,
 "nbformat_minor": 5
}
